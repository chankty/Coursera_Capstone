{
    "cells": [
        {
            "cell_type": "markdown",
            "metadata": {
                "collapsed": true
            },
            "source": "# Final Report"
        },
        {
            "cell_type": "markdown",
            "metadata": {},
            "source": "### Introduction\n\nIn this project, I hope to create a traveller map of Singapore that would show the key hotels around Raffel's place and the restuarants nearby. "
        },
        {
            "cell_type": "markdown",
            "metadata": {},
            "source": "### Audience\n\nTravellers who intend to visit Singapore may find the map handy as they can use it to refer to the suitable hotels and restaurants."
        },
        {
            "cell_type": "markdown",
            "metadata": {},
            "source": "### Data\n\nFoursquare data with details on Singapore. Data are then cleaned to provide only the name, categories, address, lat, lng, postalCode of the desired areas."
        },
        {
            "cell_type": "code",
            "execution_count": null,
            "metadata": {},
            "outputs": [],
            "source": ""
        }
    ],
    "metadata": {
        "kernelspec": {
            "display_name": "Python 3.6",
            "language": "python",
            "name": "python3"
        },
        "language_info": {
            "codemirror_mode": {
                "name": "ipython",
                "version": 3
            },
            "file_extension": ".py",
            "mimetype": "text/x-python",
            "name": "python",
            "nbconvert_exporter": "python",
            "pygments_lexer": "ipython3",
            "version": "3.6.8"
        }
    },
    "nbformat": 4,
    "nbformat_minor": 1
}