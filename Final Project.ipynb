{
    "cells": [
        {
            "metadata": {
                "collapsed": true
            },
            "cell_type": "markdown",
            "source": "# Final Report"
        },
        {
            "metadata": {},
            "cell_type": "markdown",
            "source": "[Task #1: Clearly define a problem or an idea of your choice, where you would need to leverage the Foursquare location data to solve or execute. Remember that data science problems always target an audience and are meant to help a group of stakeholders solve a problem, so make sure that you explicitly describe your audience and why they would care about your problem.]"
        },
        {
            "metadata": {},
            "cell_type": "markdown",
            "source": "Introduction\n\nAnalyze the popularity of tokyo restaruants according to its check in rates and suggest what new restaurants could be opened.\n\n\n\nAudience\n\nBusiness ownwers who wish to understand the food and beverage business of Tokyo better, so they can improve their business."
        },
        {
            "metadata": {},
            "cell_type": "markdown",
            "source": "[Task #2: Describe the data that you will be using to solve the problem or execute your idea. Remember that you will need to use the Foursquare location data to solve the problem or execute your idea. You can absolutely use other datasets in combination with the Foursquare location data. So make sure that you provide adequate explanation and discussion, with examples, of the data that you will be using, even if it is only Foursquare location data.]"
        },
        {
            "metadata": {},
            "cell_type": "markdown",
            "source": "Data\n\nFoursquare data with around 500,000 check-ins in Tokyo.\nThe data contains, Venue ID, Venue category name, Latitude, Longitude, Timezone offset in minutes, and Check In time (UTC time)"
        },
        {
            "metadata": {},
            "cell_type": "code",
            "source": "",
            "execution_count": null,
            "outputs": []
        }
    ],
    "metadata": {
        "kernelspec": {
            "name": "python3",
            "display_name": "Python 3.6",
            "language": "python"
        },
        "language_info": {
            "name": "python",
            "version": "3.6.8",
            "mimetype": "text/x-python",
            "codemirror_mode": {
                "name": "ipython",
                "version": 3
            },
            "pygments_lexer": "ipython3",
            "nbconvert_exporter": "python",
            "file_extension": ".py"
        }
    },
    "nbformat": 4,
    "nbformat_minor": 1
}