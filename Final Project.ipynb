{
    "cells": [
        {
            "cell_type": "markdown",
            "metadata": {
                "collapsed": true
            },
            "source": "# Final Report"
        },
        {
            "cell_type": "markdown",
            "metadata": {},
            "source": "### Introduction\n\nIt's always a challenge to look for suitable restaurant when we are visitng a new city. Therefore my project aims to help with this problem. In this project, I hope to create a traveller map of Singapore that would show the key hotels around Raffel's place and the restuarants nearby. \n\nIdeally, it should include the following details for travellers:\n- the specific cuisine it serves\n- self-service or table service (casual or fine dining)\n- restaurat atmosphere and dress code\n- budget and average spending\n- reviews and ratings"
        },
        {
            "cell_type": "markdown",
            "metadata": {},
            "source": "### Audience\n\nTravellers who intend to visit Singapore may find the map handy as they can use it to refer to the suitable hotels and restaurants\n\nit is expected that travellers of different background would have different preferences."
        },
        {
            "cell_type": "markdown",
            "metadata": {},
            "source": "### Data\n\nFoursquare data with details on Singapore. \nData are then cleaned to provide the following:\n- name\n- categories\n- address\n- lat\n- lng\n- postalCode of the desired areas.\n\nI also hope to scrape restaurant ratings from yelp, trip advisor, or google if that is possible, for the ratings and average spendings per person."
        },
        {
            "cell_type": "code",
            "execution_count": null,
            "metadata": {},
            "outputs": [],
            "source": ""
        }
    ],
    "metadata": {
        "kernelspec": {
            "display_name": "Python 3.6",
            "language": "python",
            "name": "python3"
        },
        "language_info": {
            "codemirror_mode": {
                "name": "ipython",
                "version": 3
            },
            "file_extension": ".py",
            "mimetype": "text/x-python",
            "name": "python",
            "nbconvert_exporter": "python",
            "pygments_lexer": "ipython3",
            "version": "3.6.8"
        }
    },
    "nbformat": 4,
    "nbformat_minor": 1
}